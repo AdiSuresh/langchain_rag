{
 "cells": [
  {
   "cell_type": "code",
   "execution_count": 1,
   "id": "2399811c-6649-448d-9845-61f62a92147c",
   "metadata": {
    "scrolled": true
   },
   "outputs": [
    {
     "name": "stdout",
     "output_type": "stream",
     "text": [
      "Collecting wordllama\n",
      "  Downloading wordllama-0.3.2.post0-cp312-cp312-win_amd64.whl.metadata (14 kB)\n",
      "Requirement already satisfied: numpy in d:\\projects\\langchain_rag\\.venv\\lib\\site-packages (from wordllama) (1.26.4)\n",
      "Collecting safetensors (from wordllama)\n",
      "  Downloading safetensors-0.4.5-cp312-none-win_amd64.whl.metadata (3.9 kB)\n",
      "Requirement already satisfied: tokenizers in d:\\projects\\langchain_rag\\.venv\\lib\\site-packages (from wordllama) (0.20.0)\n",
      "Collecting toml (from wordllama)\n",
      "  Downloading toml-0.10.2-py2.py3-none-any.whl.metadata (7.1 kB)\n",
      "Requirement already satisfied: pydantic>=2 in d:\\projects\\langchain_rag\\.venv\\lib\\site-packages (from wordllama) (2.9.2)\n",
      "Requirement already satisfied: requests in d:\\projects\\langchain_rag\\.venv\\lib\\site-packages (from wordllama) (2.32.3)\n",
      "Requirement already satisfied: annotated-types>=0.6.0 in d:\\projects\\langchain_rag\\.venv\\lib\\site-packages (from pydantic>=2->wordllama) (0.7.0)\n",
      "Requirement already satisfied: pydantic-core==2.23.4 in d:\\projects\\langchain_rag\\.venv\\lib\\site-packages (from pydantic>=2->wordllama) (2.23.4)\n",
      "Requirement already satisfied: typing-extensions>=4.6.1 in d:\\projects\\langchain_rag\\.venv\\lib\\site-packages (from pydantic>=2->wordllama) (4.12.2)\n",
      "Requirement already satisfied: charset-normalizer<4,>=2 in d:\\projects\\langchain_rag\\.venv\\lib\\site-packages (from requests->wordllama) (3.3.2)\n",
      "Requirement already satisfied: idna<4,>=2.5 in d:\\projects\\langchain_rag\\.venv\\lib\\site-packages (from requests->wordllama) (3.10)\n",
      "Requirement already satisfied: urllib3<3,>=1.21.1 in d:\\projects\\langchain_rag\\.venv\\lib\\site-packages (from requests->wordllama) (2.2.3)\n",
      "Requirement already satisfied: certifi>=2017.4.17 in d:\\projects\\langchain_rag\\.venv\\lib\\site-packages (from requests->wordllama) (2024.8.30)\n",
      "Requirement already satisfied: huggingface-hub<1.0,>=0.16.4 in d:\\projects\\langchain_rag\\.venv\\lib\\site-packages (from tokenizers->wordllama) (0.25.0)\n",
      "Requirement already satisfied: filelock in d:\\projects\\langchain_rag\\.venv\\lib\\site-packages (from huggingface-hub<1.0,>=0.16.4->tokenizers->wordllama) (3.16.1)\n",
      "Requirement already satisfied: fsspec>=2023.5.0 in d:\\projects\\langchain_rag\\.venv\\lib\\site-packages (from huggingface-hub<1.0,>=0.16.4->tokenizers->wordllama) (2024.9.0)\n",
      "Requirement already satisfied: packaging>=20.9 in d:\\projects\\langchain_rag\\.venv\\lib\\site-packages (from huggingface-hub<1.0,>=0.16.4->tokenizers->wordllama) (24.1)\n",
      "Requirement already satisfied: pyyaml>=5.1 in d:\\projects\\langchain_rag\\.venv\\lib\\site-packages (from huggingface-hub<1.0,>=0.16.4->tokenizers->wordllama) (6.0.2)\n",
      "Requirement already satisfied: tqdm>=4.42.1 in d:\\projects\\langchain_rag\\.venv\\lib\\site-packages (from huggingface-hub<1.0,>=0.16.4->tokenizers->wordllama) (4.66.5)\n",
      "Requirement already satisfied: colorama in d:\\projects\\langchain_rag\\.venv\\lib\\site-packages (from tqdm>=4.42.1->huggingface-hub<1.0,>=0.16.4->tokenizers->wordllama) (0.4.6)\n",
      "Downloading wordllama-0.3.2.post0-cp312-cp312-win_amd64.whl (16.9 MB)\n",
      "   ---------------------------------------- 0.0/16.9 MB ? eta -:--:--\n",
      "   ---------------------------------------- 0.0/16.9 MB ? eta -:--:--\n",
      "   - -------------------------------------- 0.5/16.9 MB 1.9 MB/s eta 0:00:09\n",
      "   - -------------------------------------- 0.8/16.9 MB 1.8 MB/s eta 0:00:10\n",
      "   --- ------------------------------------ 1.3/16.9 MB 1.8 MB/s eta 0:00:09\n",
      "   --- ------------------------------------ 1.6/16.9 MB 1.6 MB/s eta 0:00:10\n",
      "   ---- ----------------------------------- 1.8/16.9 MB 1.6 MB/s eta 0:00:10\n",
      "   ---- ----------------------------------- 2.1/16.9 MB 1.6 MB/s eta 0:00:10\n",
      "   ------ --------------------------------- 2.6/16.9 MB 1.7 MB/s eta 0:00:09\n",
      "   ------ --------------------------------- 2.9/16.9 MB 1.7 MB/s eta 0:00:09\n",
      "   -------- ------------------------------- 3.4/16.9 MB 1.7 MB/s eta 0:00:08\n",
      "   -------- ------------------------------- 3.7/16.9 MB 1.7 MB/s eta 0:00:08\n",
      "   --------- ------------------------------ 4.2/16.9 MB 1.7 MB/s eta 0:00:08\n",
      "   ---------- ----------------------------- 4.5/16.9 MB 1.7 MB/s eta 0:00:08\n",
      "   ----------- ---------------------------- 5.0/16.9 MB 1.7 MB/s eta 0:00:07\n",
      "   ------------ --------------------------- 5.2/16.9 MB 1.7 MB/s eta 0:00:07\n",
      "   ------------- -------------------------- 5.8/16.9 MB 1.7 MB/s eta 0:00:07\n",
      "   -------------- ------------------------- 6.0/16.9 MB 1.7 MB/s eta 0:00:07\n",
      "   -------------- ------------------------- 6.3/16.9 MB 1.7 MB/s eta 0:00:07\n",
      "   ---------------- ----------------------- 6.8/16.9 MB 1.7 MB/s eta 0:00:06\n",
      "   ---------------- ----------------------- 7.1/16.9 MB 1.7 MB/s eta 0:00:06\n",
      "   ----------------- ---------------------- 7.3/16.9 MB 1.7 MB/s eta 0:00:06\n",
      "   ------------------ --------------------- 7.9/16.9 MB 1.7 MB/s eta 0:00:06\n",
      "   ------------------- -------------------- 8.1/16.9 MB 1.7 MB/s eta 0:00:06\n",
      "   ------------------- -------------------- 8.4/16.9 MB 1.7 MB/s eta 0:00:06\n",
      "   -------------------- ------------------- 8.7/16.9 MB 1.7 MB/s eta 0:00:05\n",
      "   --------------------- ------------------ 8.9/16.9 MB 1.6 MB/s eta 0:00:05\n",
      "   --------------------- ------------------ 9.2/16.9 MB 1.6 MB/s eta 0:00:05\n",
      "   ---------------------- ----------------- 9.7/16.9 MB 1.6 MB/s eta 0:00:05\n",
      "   ----------------------- ---------------- 10.0/16.9 MB 1.6 MB/s eta 0:00:05\n",
      "   ------------------------ --------------- 10.2/16.9 MB 1.6 MB/s eta 0:00:05\n",
      "   ------------------------- -------------- 10.7/16.9 MB 1.7 MB/s eta 0:00:04\n",
      "   -------------------------- ------------- 11.0/16.9 MB 1.7 MB/s eta 0:00:04\n",
      "   --------------------------- ------------ 11.5/16.9 MB 1.7 MB/s eta 0:00:04\n",
      "   --------------------------- ------------ 11.8/16.9 MB 1.7 MB/s eta 0:00:04\n",
      "   ---------------------------- ----------- 12.1/16.9 MB 1.7 MB/s eta 0:00:03\n",
      "   ----------------------------- ---------- 12.6/16.9 MB 1.7 MB/s eta 0:00:03\n",
      "   ------------------------------ --------- 12.8/16.9 MB 1.7 MB/s eta 0:00:03\n",
      "   ------------------------------- -------- 13.4/16.9 MB 1.7 MB/s eta 0:00:03\n",
      "   -------------------------------- ------- 13.6/16.9 MB 1.7 MB/s eta 0:00:02\n",
      "   -------------------------------- ------- 13.9/16.9 MB 1.7 MB/s eta 0:00:02\n",
      "   ---------------------------------- ----- 14.4/16.9 MB 1.7 MB/s eta 0:00:02\n",
      "   ---------------------------------- ----- 14.7/16.9 MB 1.7 MB/s eta 0:00:02\n",
      "   ----------------------------------- ---- 15.2/16.9 MB 1.7 MB/s eta 0:00:02\n",
      "   ------------------------------------ --- 15.5/16.9 MB 1.7 MB/s eta 0:00:01\n",
      "   ------------------------------------- -- 16.0/16.9 MB 1.7 MB/s eta 0:00:01\n",
      "   -------------------------------------- - 16.3/16.9 MB 1.7 MB/s eta 0:00:01\n",
      "   ---------------------------------------  16.5/16.9 MB 1.7 MB/s eta 0:00:01\n",
      "   ---------------------------------------  16.8/16.9 MB 1.7 MB/s eta 0:00:01\n",
      "   ---------------------------------------- 16.9/16.9 MB 1.6 MB/s eta 0:00:00\n",
      "Downloading safetensors-0.4.5-cp312-none-win_amd64.whl (286 kB)\n",
      "Downloading toml-0.10.2-py2.py3-none-any.whl (16 kB)\n",
      "Installing collected packages: toml, safetensors, wordllama\n",
      "Successfully installed safetensors-0.4.5 toml-0.10.2 wordllama-0.3.2.post0\n"
     ]
    }
   ],
   "source": [
    "!pip install wordllama"
   ]
  },
  {
   "cell_type": "code",
   "execution_count": null,
   "id": "26ad408a-3015-46b3-8bdf-e364d9596ee6",
   "metadata": {},
   "outputs": [],
   "source": []
  }
 ],
 "metadata": {
  "kernelspec": {
   "display_name": "Python 3 (ipykernel)",
   "language": "python",
   "name": "python3"
  },
  "language_info": {
   "codemirror_mode": {
    "name": "ipython",
    "version": 3
   },
   "file_extension": ".py",
   "mimetype": "text/x-python",
   "name": "python",
   "nbconvert_exporter": "python",
   "pygments_lexer": "ipython3",
   "version": "3.12.2"
  }
 },
 "nbformat": 4,
 "nbformat_minor": 5
}
